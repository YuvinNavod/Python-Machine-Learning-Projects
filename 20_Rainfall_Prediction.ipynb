{
  "nbformat": 4,
  "nbformat_minor": 0,
  "metadata": {
    "colab": {
      "provenance": [],
      "authorship_tag": "ABX9TyONWUIG7Mthb21n5r3pl16k",
      "include_colab_link": true
    },
    "kernelspec": {
      "name": "python3",
      "display_name": "Python 3"
    },
    "language_info": {
      "name": "python"
    }
  },
  "cells": [
    {
      "cell_type": "markdown",
      "metadata": {
        "id": "view-in-github",
        "colab_type": "text"
      },
      "source": [
        "<a href=\"https://colab.research.google.com/github/YuvinNavod/Python-Machine-Learning-Projects/blob/main/20_Rainfall_Prediction.ipynb\" target=\"_parent\"><img src=\"https://colab.research.google.com/assets/colab-badge.svg\" alt=\"Open In Colab\"/></a>"
      ]
    },
    {
      "cell_type": "markdown",
      "source": [
        "# 20. Rainfall Prediction"
      ],
      "metadata": {
        "id": "DVjDHqaz-vKK"
      }
    },
    {
      "cell_type": "markdown",
      "source": [
        "## importing dependencies"
      ],
      "metadata": {
        "id": "McKsZSlSDLai"
      }
    },
    {
      "cell_type": "code",
      "source": [
        "import numpy as np\n",
        "import pandas as pd\n",
        "import matplotlib.pyplot as plt\n",
        "import seaborn as sns\n",
        "from sklearn.utils import resample\n",
        "from sklearn.model_selection import train_test_split,gridsearchCV"
      ],
      "metadata": {
        "id": "b9Lz43mNC-SU"
      },
      "execution_count": null,
      "outputs": []
    }
  ]
}